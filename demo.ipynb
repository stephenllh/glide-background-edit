{
  "nbformat": 4,
  "nbformat_minor": 0,
  "metadata": {
    "colab": {
      "name": "glide-inpainting2.ipynb",
      "provenance": [],
      "collapsed_sections": [],
      "authorship_tag": "ABX9TyPiai90q7HzMmcNqPv9aklG",
      "include_colab_link": true
    },
    "kernelspec": {
      "name": "python3",
      "display_name": "Python 3"
    },
    "language_info": {
      "name": "python"
    },
    "accelerator": "GPU"
  },
  "cells": [
    {
      "cell_type": "markdown",
      "metadata": {
        "id": "view-in-github",
        "colab_type": "text"
      },
      "source": [
        "<a href=\"https://colab.research.google.com/github/stephenllh/glide-background-edit/blob/main/demo.ipynb\" target=\"_parent\"><img src=\"https://colab.research.google.com/assets/colab-badge.svg\" alt=\"Open In Colab\"/></a>"
      ]
    },
    {
      "cell_type": "markdown",
      "source": [
        "### Install packages"
      ],
      "metadata": {
        "id": "DIpOPDqn6s6t"
      }
    },
    {
      "cell_type": "code",
      "source": [
        "!pip install -q git+https://github.com/openai/glide-text2im\n",
        "!git clone https://github.com/openai/glide-text2im.git\n",
        "!git clone https://github.com/stephenllh/glide-background-edit.git"
      ],
      "metadata": {
        "id": "pcY2xYwbshhZ"
      },
      "execution_count": null,
      "outputs": []
    },
    {
      "cell_type": "code",
      "source": [
        "import sys\n",
        "sys.path.append(\"./glide-background-edit\")\n",
        "from main import run"
      ],
      "metadata": {
        "id": "tQMfEMOvrP8v"
      },
      "execution_count": 16,
      "outputs": []
    },
    {
      "cell_type": "markdown",
      "source": [
        "### Run"
      ],
      "metadata": {
        "id": "k-qAM0f_6wYi"
      }
    },
    {
      "cell_type": "markdown",
      "source": [
        "When the session starts, please upload the image to the Files section on the left\n",
        "\n",
        "Feel free to change the prompt and hyperparameters "
      ],
      "metadata": {
        "id": "YhAHFfm97C_b"
      }
    },
    {
      "cell_type": "code",
      "execution_count": null,
      "metadata": {
        "id": "dzyobu2OrM-3"
      },
      "outputs": [],
      "source": [
        "# Change the name of \"filename\"\n",
        "filename = \"photo.jpg\"\n",
        "\n",
        "# You can choose anything you want to generate as a text prompt.\n",
        "prompt = \"an ocean with fish\"\n",
        "\n",
        "batch_size = 1\n",
        "guidance_scale = 5.0\n",
        "\n",
        "# Tune this parameter to control the sharpness of 256x256 images. A value of 1.0 is sharper, but sometimes results in grainy artifacts.\n",
        "upsample_temp = 0.997 \n",
        "\n",
        "run(filename, prompt, guidance_scale, upsample_temp, batch_size)"
      ]
    }
  ]
}